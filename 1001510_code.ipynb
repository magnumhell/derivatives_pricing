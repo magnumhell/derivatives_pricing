{
 "cells": [
  {
   "cell_type": "markdown",
   "metadata": {},
   "source": [
    "# Derivatives Pricing & Risk Management Project\n",
    "#### Done by: Jordan Sim 1001510"
   ]
  },
  {
   "cell_type": "code",
   "execution_count": 1,
   "metadata": {},
   "outputs": [],
   "source": [
    "from scipy.stats import norm\n",
    "from scipy.special import comb\n",
    "from matplotlib import pyplot as plt\n",
    "import numpy as np\n",
    "import pandas as pd\n",
    "%matplotlib inline"
   ]
  },
  {
   "cell_type": "markdown",
   "metadata": {},
   "source": [
    "### Part 1: Construct Binomial Model "
   ]
  },
  {
   "cell_type": "code",
   "execution_count": 2,
   "metadata": {},
   "outputs": [],
   "source": [
    "def Binomial(Option,K, T, S, v, r, q, N, Exercise):\n",
    "    # all values entered should be float\n",
    "    deltaT=T/N\n",
    "    u=np.exp(v*np.sqrt(deltaT))\n",
    "    d=1.0/u\n",
    "    p=(np.exp((r-q)*deltaT)-d)/(u-d)\n",
    "    fNj_list=[]\n",
    "    summ=0.0\n",
    "    for j in range(N+1): #j is number of moves up in the stock price\n",
    "        sNj=(u**j)*(d**(N-j))*S\n",
    "        if Option == 'C':\n",
    "            fNj=max(sNj-K,0)\n",
    "        else:\n",
    "            fNj=max(K-sNj,0)\n",
    "        fNj_list.append(fNj)\n",
    "        summ+=comb(N,j)*(p**j)*((1-p)**(N-j))*fNj\n",
    "    \n",
    "    eur=summ*np.exp(-r*(T)) \n",
    "    if Exercise=='E':\n",
    "        return eur\n",
    "    elif Exercise=='A': \n",
    "        for i in range(N-1,-1,-1):\n",
    "            for j in range(i+1):   #j is number of moves up in the stock price\n",
    "                snj=(u**j)*(d**(i-j))*S\n",
    "                if Option == 'C':\n",
    "                    fnj=max(snj-K,0)\n",
    "                    fNj_list[j]=max(fnj,(p*fNj_list[j+1]+(1-p)*(fNj_list[j]))*np.exp(-r*deltaT))\n",
    "                else:\n",
    "                    fnj=max(K-snj,0)\n",
    "                    fNj_list[j]=max(fnj,(p*fNj_list[j+1]+(1-p)*(fNj_list[j]))*np.exp(-r*deltaT))\n",
    "        f0=fNj_list[0]\n",
    "    return f0"
   ]
  },
  {
   "cell_type": "code",
   "execution_count": 3,
   "metadata": {},
   "outputs": [],
   "source": [
    "def blackScholes(Option,K, T, S, v, r, q, Exercise):\n",
    "    left=np.log(float(S)/K)\n",
    "    right= (r-q +0.5*(v**2))*T\n",
    "    d1=(left+right)/(v*(T**0.5))\n",
    "    d2=d1-(v*T**0.5)\n",
    "    if Exercise=='E':\n",
    "        if Option=='C':\n",
    "            return S*norm.cdf(d1)*np.exp(-q*T) - K*norm.cdf(d2)*np.exp(-r*T)\n",
    "        elif Option=='P':\n",
    "            return -S*norm.cdf(-d1)*np.exp(-q*T) + K*norm.cdf(-d2)*np.exp(-r*T) "
   ]
  },
  {
   "cell_type": "markdown",
   "metadata": {},
   "source": [
    "### Part 2\n",
    "#### 2.1 Price of european call option using Black Scholes Model"
   ]
  },
  {
   "cell_type": "code",
   "execution_count": 14,
   "metadata": {},
   "outputs": [
    {
     "name": "stdout",
     "output_type": "stream",
     "text": [
      "European Call Price given by BSM: 8.10264353446\n",
      "\n",
      "CPU times: user 661 µs, sys: 275 µs, total: 936 µs\n",
      "Wall time: 707 µs\n"
     ]
    }
   ],
   "source": [
    "%%time\n",
    "print \"European Call Price given by BSM: \" + str(blackScholes('C',100,1.0,100,0.2,0.05,0.04,'E'))+'\\n'"
   ]
  },
  {
   "cell_type": "markdown",
   "metadata": {},
   "source": [
    "#### 2.2 Visualize the convergence\n",
    "##### Plot n against the call option price given by Binomial. It indeed convergences to the Black Scholes option price at large n=1000."
   ]
  },
  {
   "cell_type": "code",
   "execution_count": 13,
   "metadata": {
    "scrolled": true
   },
   "outputs": [
    {
     "name": "stdout",
     "output_type": "stream",
     "text": [
      "Call Price converges at: 8.10073766064\n",
      "\n",
      "CPU times: user 245 ms, sys: 15 ms, total: 260 ms\n",
      "Wall time: 252 ms\n"
     ]
    }
   ],
   "source": [
    "%%time\n",
    "x_list=[]\n",
    "for n in range(1,200):\n",
    "    x= Binomial('C',100,1.0,100,0.2,0.05,0.04,n,'E')\n",
    "    x_list.append(x)\n",
    "\n",
    "print \"Call Price converges at: \" + str(Binomial('C',100,1.0,100,0.2,0.05,0.04,1000,'E'))+'\\n'"
   ]
  },
  {
   "cell_type": "code",
   "execution_count": 6,
   "metadata": {
    "scrolled": true
   },
   "outputs": [
    {
     "name": "stdout",
     "output_type": "stream",
     "text": [
      "CPU times: user 62.1 ms, sys: 9.18 ms, total: 71.3 ms\n",
      "Wall time: 65.3 ms\n"
     ]
    },
    {
     "data": {
      "image/png": "[encoded data removed]",
      "text/plain": [
       "<matplotlib.figure.Figure at 0x1043cefd0>"
      ]
     },
     "metadata": {},
     "output_type": "display_data"
    }
   ],
   "source": [
    "%%time\n",
    "plt.xlim(0,150)\n",
    "plt.plot(range(1,200),x_list)"
   ]
  },
  {
   "cell_type": "markdown",
   "metadata": {},
   "source": [
    "### Part 3: American put option\n",
    "\n",
    "#### 3.1 Calculate and plot the put value as a function of the initial stock price"
   ]
  },
  {
   "cell_type": "code",
   "execution_count": 7,
   "metadata": {
    "scrolled": true
   },
   "outputs": [
    {
     "name": "stdout",
     "output_type": "stream",
     "text": [
      "CPU times: user 532 ms, sys: 13.2 ms, total: 545 ms\n",
      "Wall time: 537 ms\n"
     ]
    }
   ],
   "source": [
    "%%time\n",
    "list1=[]\n",
    "list2=[]\n",
    "start = 600\n",
    "stop =1500\n",
    "\n",
    "for S in [x*0.1 for x in range(start,stop)]:\n",
    "    Aput= Binomial(Option='P',K=100,T=1.0,S=S,v=0.2,r=0.05,q=0.0,N=12,Exercise='A')\n",
    "    list1.append(Aput)\n",
    "    Eput= Binomial(Option='P',K=100,T=1.0,S=S,v=0.2,r=0.05,q=0.0,N=12,Exercise='E')\n",
    "    list2.append(Eput)"
   ]
  },
  {
   "cell_type": "markdown",
   "metadata": {},
   "source": [
    "Black line is American Put option payoff as a function of initial stock price S.\n",
    "Blue line is European Put option payoff."
   ]
  },
  {
   "cell_type": "code",
   "execution_count": 8,
   "metadata": {
    "scrolled": false
   },
   "outputs": [
    {
     "name": "stderr",
     "output_type": "stream",
     "text": [
      "/Library/Python/2.7/site-packages/matplotlib-override/matplotlib/collections.py:590: FutureWarning: elementwise comparison failed; returning scalar instead, but in the future will perform elementwise comparison\n",
      "  if self._edgecolors == str('face'):\n"
     ]
    },
    {
     "data": {
      "image/png": "[encoded data removed]",
      "text/plain": [
       "<matplotlib.figure.Figure at 0x10990b510>"
      ]
     },
     "metadata": {},
     "output_type": "display_data"
    }
   ],
   "source": [
    "plt.ylabel('American Put Value/Price')\n",
    "plt.xlabel('initial stock price S')\n",
    "plt.scatter([x*0.1 for x in range(start,stop)],list1,s=0.5)\n",
    "plt.scatter([x*0.1 for x in range(start,stop)],list2,s=0.5,color='blue')\n",
    "plt.show()"
   ]
  },
  {
   "cell_type": "markdown",
   "metadata": {},
   "source": [
    "In the plot above, as S increases, put option price decreases. This validates the option value function where S and P are inversely proportional. \n",
    "\n",
    "Value of american option is the same as its payoff. American option must be worth at least its corresponding\n",
    "intrinsic value, or european option value."
   ]
  },
  {
   "cell_type": "markdown",
   "metadata": {},
   "source": [
    "#### 3.2 What is the initial stock price 𝑆∗(12) for which it first becomes optimal to early exercise the put option?\n",
    "\n",
    "At last time step S*(12) = K = 100. "
   ]
  },
  {
   "cell_type": "markdown",
   "metadata": {},
   "source": [
    "#### 3.3 Report and plot theresulting early exercise boundary 𝑆∗(𝑖) as a function of the option maturity 𝑇=𝑖/12."
   ]
  },
  {
   "cell_type": "code",
   "execution_count": 9,
   "metadata": {},
   "outputs": [],
   "source": [
    "def getBoundary(K,S,N,q,stepsize,Option):\n",
    "    df = pd.DataFrame()\n",
    "    for time in range(12,-1,-1):\n",
    "        t=12-time\n",
    "        T=t/12.0\n",
    "        if Option=='C':\n",
    "            AC= Binomial(Option,K,T,S,0.2,0.05,q,N,'A')\n",
    "            for i in stepsize:\n",
    "                while S-K-AC<0.0:\n",
    "                    AC= Binomial(Option,K,T,S,0.2,0.05,q,N,'A')\n",
    "                    S+=i\n",
    "                if i!=stepsize[-1]:\n",
    "                    S-=i  \n",
    "        elif Option=='P':\n",
    "            AP= Binomial(Option,K,T,S,0.2,0.05,q,N,'A')\n",
    "            for i in stepsize:\n",
    "                while K-S-AP<0.0:\n",
    "                    AP= Binomial(Option,K,T,S,0.2,0.05,q,N,'A')\n",
    "                    S-=i\n",
    "                if i!=stepsize[-1]:\n",
    "                    S+=i\n",
    "        df=df.append({'i':time,'T': 1-T,'S*(i)':S},ignore_index=True)\n",
    "    return df"
   ]
  },
  {
   "cell_type": "markdown",
   "metadata": {
    "scrolled": true
   },
   "source": [
    "Time step N used is 200. By using N<200, the results will not be accurate.\n",
    "\n",
    "By varying how much S decreases at each time, we can get to the optimal early exercise price S* fast. I tried different stepsizes for the decrement and chose the stepsize that provides less computation time without compromising on accuracy.\n",
    "\n",
    "stepsize_list=[0.5,0.1,0.005] uses 3 mins\n",
    "\n",
    "stepsize_list=[0.1,0.05,0.005] uses 2.5 mins, and produces same results."
   ]
  },
  {
   "cell_type": "code",
   "execution_count": 10,
   "metadata": {},
   "outputs": [
    {
     "name": "stderr",
     "output_type": "stream",
     "text": [
      "/Library/Frameworks/Python.framework/Versions/2.7/lib/python2.7/site-packages/ipykernel_launcher.py:6: RuntimeWarning: invalid value encountered in double_scalars\n",
      "  \n"
     ]
    },
    {
     "data": {
      "text/html": [
       "<div>\n",
       "<style scoped>\n",
       "    .dataframe tbody tr th:only-of-type {\n",
       "        vertical-align: middle;\n",
       "    }\n",
       "\n",
       "    .dataframe tbody tr th {\n",
       "        vertical-align: top;\n",
       "    }\n",
       "\n",
       "    .dataframe thead th {\n",
       "        text-align: right;\n",
       "    }\n",
       "</style>\n",
       "<table border=\"1\" class=\"dataframe\">\n",
       "  <thead>\n",
       "    <tr style=\"text-align: right;\">\n",
       "      <th></th>\n",
       "      <th>S*(i)</th>\n",
       "      <th>T</th>\n",
       "      <th>i</th>\n",
       "    </tr>\n",
       "  </thead>\n",
       "  <tbody>\n",
       "    <tr>\n",
       "      <th>0</th>\n",
       "      <td>99.995</td>\n",
       "      <td>1.000000</td>\n",
       "      <td>12.0</td>\n",
       "    </tr>\n",
       "    <tr>\n",
       "      <th>1</th>\n",
       "      <td>91.320</td>\n",
       "      <td>0.916667</td>\n",
       "      <td>11.0</td>\n",
       "    </tr>\n",
       "    <tr>\n",
       "      <th>2</th>\n",
       "      <td>88.910</td>\n",
       "      <td>0.833333</td>\n",
       "      <td>10.0</td>\n",
       "    </tr>\n",
       "    <tr>\n",
       "      <th>3</th>\n",
       "      <td>87.350</td>\n",
       "      <td>0.750000</td>\n",
       "      <td>9.0</td>\n",
       "    </tr>\n",
       "    <tr>\n",
       "      <th>4</th>\n",
       "      <td>86.205</td>\n",
       "      <td>0.666667</td>\n",
       "      <td>8.0</td>\n",
       "    </tr>\n",
       "    <tr>\n",
       "      <th>5</th>\n",
       "      <td>85.270</td>\n",
       "      <td>0.583333</td>\n",
       "      <td>7.0</td>\n",
       "    </tr>\n",
       "    <tr>\n",
       "      <th>6</th>\n",
       "      <td>84.500</td>\n",
       "      <td>0.500000</td>\n",
       "      <td>6.0</td>\n",
       "    </tr>\n",
       "    <tr>\n",
       "      <th>7</th>\n",
       "      <td>83.855</td>\n",
       "      <td>0.416667</td>\n",
       "      <td>5.0</td>\n",
       "    </tr>\n",
       "    <tr>\n",
       "      <th>8</th>\n",
       "      <td>83.290</td>\n",
       "      <td>0.333333</td>\n",
       "      <td>4.0</td>\n",
       "    </tr>\n",
       "    <tr>\n",
       "      <th>9</th>\n",
       "      <td>82.775</td>\n",
       "      <td>0.250000</td>\n",
       "      <td>3.0</td>\n",
       "    </tr>\n",
       "    <tr>\n",
       "      <th>10</th>\n",
       "      <td>82.320</td>\n",
       "      <td>0.166667</td>\n",
       "      <td>2.0</td>\n",
       "    </tr>\n",
       "    <tr>\n",
       "      <th>11</th>\n",
       "      <td>81.915</td>\n",
       "      <td>0.083333</td>\n",
       "      <td>1.0</td>\n",
       "    </tr>\n",
       "    <tr>\n",
       "      <th>12</th>\n",
       "      <td>81.550</td>\n",
       "      <td>0.000000</td>\n",
       "      <td>0.0</td>\n",
       "    </tr>\n",
       "  </tbody>\n",
       "</table>\n",
       "</div>"
      ],
      "text/plain": [
       "     S*(i)         T     i\n",
       "0   99.995  1.000000  12.0\n",
       "1   91.320  0.916667  11.0\n",
       "2   88.910  0.833333  10.0\n",
       "3   87.350  0.750000   9.0\n",
       "4   86.205  0.666667   8.0\n",
       "5   85.270  0.583333   7.0\n",
       "6   84.500  0.500000   6.0\n",
       "7   83.855  0.416667   5.0\n",
       "8   83.290  0.333333   4.0\n",
       "9   82.775  0.250000   3.0\n",
       "10  82.320  0.166667   2.0\n",
       "11  81.915  0.083333   1.0\n",
       "12  81.550  0.000000   0.0"
      ]
     },
     "metadata": {},
     "output_type": "display_data"
    },
    {
     "name": "stdout",
     "output_type": "stream",
     "text": [
      "CPU times: user 2min 19s, sys: 1.57 s, total: 2min 21s\n",
      "Wall time: 2min 21s\n"
     ]
    }
   ],
   "source": [
    "%%time\n",
    "stepsize_list=[0.1,0.05,0.005]\n",
    "\n",
    "df=getBoundary(100,100.5,200,0.0,stepsize_list,'P')\n",
    "display(df)"
   ]
  },
  {
   "cell_type": "code",
   "execution_count": 11,
   "metadata": {
    "scrolled": false
   },
   "outputs": [
    {
     "data": {
      "image/png": "[encoded data removed]",
      "text/plain": [
       "<matplotlib.figure.Figure at 0x109931250>"
      ]
     },
     "metadata": {},
     "output_type": "display_data"
    }
   ],
   "source": [
    "plt.plot(df['T'], df['S*(i)'])\n",
    "plt.ylabel('Early exercise boundary S*(i)')\n",
    "plt.xlabel('Option Maturity T')\n",
    "plt.show()"
   ]
  },
  {
   "cell_type": "markdown",
   "metadata": {},
   "source": [
    "#### 3. 4 How do put prices and the early exercise boundary change when the continuous dividend yield is 𝑞 = 0.04? "
   ]
  },
  {
   "cell_type": "code",
   "execution_count": 15,
   "metadata": {},
   "outputs": [],
   "source": [
    "list3=[]\n",
    "for S in [x*0.1 for x in range(start,stop)]:\n",
    "    Aput= Binomial(Option='P',K=100,T=1.0,S=S,v=0.2,r=0.05,q=0.04,N=12,Exercise='A')\n",
    "    list3.append(Aput)"
   ]
  },
  {
   "cell_type": "code",
   "execution_count": 16,
   "metadata": {},
   "outputs": [
    {
     "data": {
      "image/png": "[encoded data removed]",
      "text/plain": [
       "<matplotlib.figure.Figure at 0x109c16690>"
      ]
     },
     "metadata": {},
     "output_type": "display_data"
    }
   ],
   "source": [
    "plt.ylabel('American Put Option Value/Price')\n",
    "plt.xlabel('Initial stock price S')\n",
    "plt.xlim(80,110)\n",
    "plt.ylim(0,25)\n",
    "plt.scatter([x*0.1 for x in range(start,stop)],list1,s=0.5)\n",
    "plt.scatter([x*0.1 for x in range(start,stop)],list3,s=0.5,color='red')\n",
    "plt.show()"
   ]
  },
  {
   "cell_type": "markdown",
   "metadata": {},
   "source": [
    "As initial stock price S increase, put option price decreases. \n",
    "\n",
    "Put price with dividend is higher than without dividend. Put price with continuous dividend yield q=0.04 is shown as the red curve. "
   ]
  },
  {
   "cell_type": "markdown",
   "metadata": {},
   "source": [
    "decrement_list=[0.5,0.1,0.005] uses 4 mins 10s\n",
    "\n",
    "decrement_list=[0.1,0.05,0.005] uses 3 mins 40s, and produces same results"
   ]
  },
  {
   "cell_type": "code",
   "execution_count": 17,
   "metadata": {
    "scrolled": false
   },
   "outputs": [
    {
     "name": "stderr",
     "output_type": "stream",
     "text": [
      "/Library/Frameworks/Python.framework/Versions/2.7/lib/python2.7/site-packages/ipykernel_launcher.py:6: RuntimeWarning: invalid value encountered in double_scalars\n",
      "  \n"
     ]
    },
    {
     "data": {
      "text/html": [
       "<div>\n",
       "<style scoped>\n",
       "    .dataframe tbody tr th:only-of-type {\n",
       "        vertical-align: middle;\n",
       "    }\n",
       "\n",
       "    .dataframe tbody tr th {\n",
       "        vertical-align: top;\n",
       "    }\n",
       "\n",
       "    .dataframe thead th {\n",
       "        text-align: right;\n",
       "    }\n",
       "</style>\n",
       "<table border=\"1\" class=\"dataframe\">\n",
       "  <thead>\n",
       "    <tr style=\"text-align: right;\">\n",
       "      <th></th>\n",
       "      <th>S*(i)</th>\n",
       "      <th>T</th>\n",
       "      <th>i</th>\n",
       "    </tr>\n",
       "  </thead>\n",
       "  <tbody>\n",
       "    <tr>\n",
       "      <th>0</th>\n",
       "      <td>99.995</td>\n",
       "      <td>1.000000</td>\n",
       "      <td>12.0</td>\n",
       "    </tr>\n",
       "    <tr>\n",
       "      <th>1</th>\n",
       "      <td>88.875</td>\n",
       "      <td>0.916667</td>\n",
       "      <td>11.0</td>\n",
       "    </tr>\n",
       "    <tr>\n",
       "      <th>2</th>\n",
       "      <td>85.475</td>\n",
       "      <td>0.833333</td>\n",
       "      <td>10.0</td>\n",
       "    </tr>\n",
       "    <tr>\n",
       "      <th>3</th>\n",
       "      <td>83.250</td>\n",
       "      <td>0.750000</td>\n",
       "      <td>9.0</td>\n",
       "    </tr>\n",
       "    <tr>\n",
       "      <th>4</th>\n",
       "      <td>81.490</td>\n",
       "      <td>0.666667</td>\n",
       "      <td>8.0</td>\n",
       "    </tr>\n",
       "    <tr>\n",
       "      <th>5</th>\n",
       "      <td>80.115</td>\n",
       "      <td>0.583333</td>\n",
       "      <td>7.0</td>\n",
       "    </tr>\n",
       "    <tr>\n",
       "      <th>6</th>\n",
       "      <td>78.945</td>\n",
       "      <td>0.500000</td>\n",
       "      <td>6.0</td>\n",
       "    </tr>\n",
       "    <tr>\n",
       "      <th>7</th>\n",
       "      <td>77.930</td>\n",
       "      <td>0.416667</td>\n",
       "      <td>5.0</td>\n",
       "    </tr>\n",
       "    <tr>\n",
       "      <th>8</th>\n",
       "      <td>77.060</td>\n",
       "      <td>0.333333</td>\n",
       "      <td>4.0</td>\n",
       "    </tr>\n",
       "    <tr>\n",
       "      <th>9</th>\n",
       "      <td>76.300</td>\n",
       "      <td>0.250000</td>\n",
       "      <td>3.0</td>\n",
       "    </tr>\n",
       "    <tr>\n",
       "      <th>10</th>\n",
       "      <td>75.590</td>\n",
       "      <td>0.166667</td>\n",
       "      <td>2.0</td>\n",
       "    </tr>\n",
       "    <tr>\n",
       "      <th>11</th>\n",
       "      <td>74.940</td>\n",
       "      <td>0.083333</td>\n",
       "      <td>1.0</td>\n",
       "    </tr>\n",
       "    <tr>\n",
       "      <th>12</th>\n",
       "      <td>74.355</td>\n",
       "      <td>0.000000</td>\n",
       "      <td>0.0</td>\n",
       "    </tr>\n",
       "  </tbody>\n",
       "</table>\n",
       "</div>"
      ],
      "text/plain": [
       "     S*(i)         T     i\n",
       "0   99.995  1.000000  12.0\n",
       "1   88.875  0.916667  11.0\n",
       "2   85.475  0.833333  10.0\n",
       "3   83.250  0.750000   9.0\n",
       "4   81.490  0.666667   8.0\n",
       "5   80.115  0.583333   7.0\n",
       "6   78.945  0.500000   6.0\n",
       "7   77.930  0.416667   5.0\n",
       "8   77.060  0.333333   4.0\n",
       "9   76.300  0.250000   3.0\n",
       "10  75.590  0.166667   2.0\n",
       "11  74.940  0.083333   1.0\n",
       "12  74.355  0.000000   0.0"
      ]
     },
     "metadata": {},
     "output_type": "display_data"
    },
    {
     "name": "stdout",
     "output_type": "stream",
     "text": [
      "CPU times: user 3min 36s, sys: 2.64 s, total: 3min 38s\n",
      "Wall time: 3min 43s\n"
     ]
    }
   ],
   "source": [
    "%%time\n",
    "decrement_list=[0.1,0.05,0.005]\n",
    "df1=getBoundary(100,100.5,200,0.04,decrement_list,'P')\n",
    "display(df1)"
   ]
  },
  {
   "cell_type": "code",
   "execution_count": 18,
   "metadata": {},
   "outputs": [
    {
     "data": {
      "image/png": "[encoded data removed]",
      "text/plain": [
       "<matplotlib.figure.Figure at 0x10a802710>"
      ]
     },
     "metadata": {},
     "output_type": "display_data"
    }
   ],
   "source": [
    "plt.ylabel('Early exercise boundary S*(i)')\n",
    "plt.xlabel('Option Maturity T')\n",
    "plt.plot(df['T'], df['S*(i)'])\n",
    "plt.plot(df1['T'], df1['S*(i)'],color='red')\n",
    "plt.show()"
   ]
  },
  {
   "cell_type": "markdown",
   "metadata": {},
   "source": [
    "With dividend, the optimal exercise boundary is always lower."
   ]
  },
  {
   "cell_type": "markdown",
   "metadata": {},
   "source": [
    "#### 3.5 What is the intuition behind this dependence on the dividend yield?\n",
    "\n",
    "The red line is the put option with dividend yield. The optimal early exercise boundary of an american put option with continuous dividend yield is always less than that of an option without dividend. With continuous dividend yield, put  price increases, since the actual stock value is worth less. \n",
    "\n",
    "Based on K-S-put value=0, if put value increases, the boundary S* decreases.\n",
    "Hence, with dividend, the optimal exercise boundary is always lower.\n",
    "\n",
    "The two boundaries converges as option approaches maturity. This is because as option maturity approaches, the dividends are accounted for and the stock is worth less. With time, the price of american put option with dividend decreases at an increasing rate. "
   ]
  },
  {
   "cell_type": "markdown",
   "metadata": {},
   "source": [
    "### Part 4: American Call Option"
   ]
  },
  {
   "cell_type": "markdown",
   "metadata": {},
   "source": [
    "#### 4.1 Calculate and plot American call values as a function of the initial stock price"
   ]
  },
  {
   "cell_type": "code",
   "execution_count": 19,
   "metadata": {},
   "outputs": [
    {
     "name": "stdout",
     "output_type": "stream",
     "text": [
      "CPU times: user 660 ms, sys: 39.4 ms, total: 700 ms\n",
      "Wall time: 677 ms\n"
     ]
    }
   ],
   "source": [
    "%%time\n",
    "list4=[]\n",
    "start1 = 0\n",
    "stop1 =1500\n",
    "\n",
    "for S in [x*0.1 for x in range(start1,stop1)]:\n",
    "    Acall= Binomial(Option='C',K=100,T=1.0,S=S,v=0.2,r=0.05,q=0.04,N=12,Exercise='A')\n",
    "    list4.append(Acall)"
   ]
  },
  {
   "cell_type": "code",
   "execution_count": 20,
   "metadata": {},
   "outputs": [
    {
     "data": {
      "image/png": "[encoded data removed]",
      "text/plain": [
       "<matplotlib.figure.Figure at 0x109f53110>"
      ]
     },
     "metadata": {},
     "output_type": "display_data"
    }
   ],
   "source": [
    "plt.ylabel('American Call Value')\n",
    "plt.xlabel('Initial stock price S')\n",
    "plt.scatter([x*0.1 for x in range(start1,stop1)],list4,s=0.5)\n",
    "plt.show()"
   ]
  },
  {
   "cell_type": "markdown",
   "metadata": {},
   "source": [
    "#### 4.2 with one month interval, find the initial stock prices 𝑆*(𝑖) for which it first becomes optimal to early exercise the call"
   ]
  },
  {
   "cell_type": "markdown",
   "metadata": {},
   "source": [
    "increment_list=[2,0.5,0.05,0.005] takes 9 mins \n",
    "\n",
    "increment_list=[2,0.5,0.01,0.005] takes 8.5 mins\n",
    "\n",
    "increment_list=[1,0.5,0.01,0.005] takes 7 mins and produces same results.\n",
    "\n",
    "this is for N=200. code will run for 1 min if N=100 but accuracy of results decreases."
   ]
  },
  {
   "cell_type": "code",
   "execution_count": 21,
   "metadata": {},
   "outputs": [
    {
     "name": "stderr",
     "output_type": "stream",
     "text": [
      "/Library/Frameworks/Python.framework/Versions/2.7/lib/python2.7/site-packages/ipykernel_launcher.py:6: RuntimeWarning: invalid value encountered in double_scalars\n",
      "  \n"
     ]
    },
    {
     "data": {
      "text/html": [
       "<div>\n",
       "<style scoped>\n",
       "    .dataframe tbody tr th:only-of-type {\n",
       "        vertical-align: middle;\n",
       "    }\n",
       "\n",
       "    .dataframe tbody tr th {\n",
       "        vertical-align: top;\n",
       "    }\n",
       "\n",
       "    .dataframe thead th {\n",
       "        text-align: right;\n",
       "    }\n",
       "</style>\n",
       "<table border=\"1\" class=\"dataframe\">\n",
       "  <thead>\n",
       "    <tr style=\"text-align: right;\">\n",
       "      <th></th>\n",
       "      <th>S*(i)</th>\n",
       "      <th>T</th>\n",
       "      <th>i</th>\n",
       "    </tr>\n",
       "  </thead>\n",
       "  <tbody>\n",
       "    <tr>\n",
       "      <th>0</th>\n",
       "      <td>100.000</td>\n",
       "      <td>1.000000</td>\n",
       "      <td>12.0</td>\n",
       "    </tr>\n",
       "    <tr>\n",
       "      <th>1</th>\n",
       "      <td>125.055</td>\n",
       "      <td>0.916667</td>\n",
       "      <td>11.0</td>\n",
       "    </tr>\n",
       "    <tr>\n",
       "      <th>2</th>\n",
       "      <td>128.705</td>\n",
       "      <td>0.833333</td>\n",
       "      <td>10.0</td>\n",
       "    </tr>\n",
       "    <tr>\n",
       "      <th>3</th>\n",
       "      <td>132.235</td>\n",
       "      <td>0.750000</td>\n",
       "      <td>9.0</td>\n",
       "    </tr>\n",
       "    <tr>\n",
       "      <th>4</th>\n",
       "      <td>135.430</td>\n",
       "      <td>0.666667</td>\n",
       "      <td>8.0</td>\n",
       "    </tr>\n",
       "    <tr>\n",
       "      <th>5</th>\n",
       "      <td>138.235</td>\n",
       "      <td>0.583333</td>\n",
       "      <td>7.0</td>\n",
       "    </tr>\n",
       "    <tr>\n",
       "      <th>6</th>\n",
       "      <td>140.685</td>\n",
       "      <td>0.500000</td>\n",
       "      <td>6.0</td>\n",
       "    </tr>\n",
       "    <tr>\n",
       "      <th>7</th>\n",
       "      <td>143.000</td>\n",
       "      <td>0.416667</td>\n",
       "      <td>5.0</td>\n",
       "    </tr>\n",
       "    <tr>\n",
       "      <th>8</th>\n",
       "      <td>145.065</td>\n",
       "      <td>0.333333</td>\n",
       "      <td>4.0</td>\n",
       "    </tr>\n",
       "    <tr>\n",
       "      <th>9</th>\n",
       "      <td>147.025</td>\n",
       "      <td>0.250000</td>\n",
       "      <td>3.0</td>\n",
       "    </tr>\n",
       "    <tr>\n",
       "      <th>10</th>\n",
       "      <td>148.805</td>\n",
       "      <td>0.166667</td>\n",
       "      <td>2.0</td>\n",
       "    </tr>\n",
       "    <tr>\n",
       "      <th>11</th>\n",
       "      <td>150.400</td>\n",
       "      <td>0.083333</td>\n",
       "      <td>1.0</td>\n",
       "    </tr>\n",
       "    <tr>\n",
       "      <th>12</th>\n",
       "      <td>151.970</td>\n",
       "      <td>0.000000</td>\n",
       "      <td>0.0</td>\n",
       "    </tr>\n",
       "  </tbody>\n",
       "</table>\n",
       "</div>"
      ],
      "text/plain": [
       "      S*(i)         T     i\n",
       "0   100.000  1.000000  12.0\n",
       "1   125.055  0.916667  11.0\n",
       "2   128.705  0.833333  10.0\n",
       "3   132.235  0.750000   9.0\n",
       "4   135.430  0.666667   8.0\n",
       "5   138.235  0.583333   7.0\n",
       "6   140.685  0.500000   6.0\n",
       "7   143.000  0.416667   5.0\n",
       "8   145.065  0.333333   4.0\n",
       "9   147.025  0.250000   3.0\n",
       "10  148.805  0.166667   2.0\n",
       "11  150.400  0.083333   1.0\n",
       "12  151.970  0.000000   0.0"
      ]
     },
     "metadata": {},
     "output_type": "display_data"
    },
    {
     "name": "stdout",
     "output_type": "stream",
     "text": [
      "CPU times: user 6min 57s, sys: 4.98 s, total: 7min 2s\n",
      "Wall time: 7min 4s\n"
     ]
    }
   ],
   "source": [
    "%%time\n",
    "increment_list=[1,0.5,0.01,0.005]\n",
    "df2=getBoundary(100,99,200,0.04,increment_list,'C')\n",
    "display(df2)"
   ]
  },
  {
   "cell_type": "code",
   "execution_count": 22,
   "metadata": {},
   "outputs": [
    {
     "data": {
      "image/png": "[encoded data removed]",
      "text/plain": [
       "<matplotlib.figure.Figure at 0x10a833cd0>"
      ]
     },
     "metadata": {},
     "output_type": "display_data"
    }
   ],
   "source": [
    "plt.ylabel('Early exercise boundary S*(i)')\n",
    "plt.xlabel('Option Maturity T')\n",
    "plt.plot(df2['T'], df2['S*(i)'])\n",
    "plt.show()"
   ]
  },
  {
   "cell_type": "markdown",
   "metadata": {},
   "source": [
    "#### 4.3 How do call prices and the early exercise boundary change when the continuous dividend yield is 𝑞 = 0.08?"
   ]
  },
  {
   "cell_type": "code",
   "execution_count": 23,
   "metadata": {},
   "outputs": [],
   "source": [
    "list5=[]\n",
    "\n",
    "for S in [x*0.1 for x in range(start1,stop1)]:\n",
    "    Acall= Binomial(Option='C',K=100,T=1.0,S=S,v=0.2,r=0.05,q=0.08,N=12,Exercise='A')\n",
    "    list5.append(Acall)"
   ]
  },
  {
   "cell_type": "code",
   "execution_count": 24,
   "metadata": {},
   "outputs": [
    {
     "data": {
      "image/png": "[encoded data removed]",
      "text/plain": [
       "<matplotlib.figure.Figure at 0x10a916a50>"
      ]
     },
     "metadata": {},
     "output_type": "display_data"
    }
   ],
   "source": [
    "plt.ylabel('American Call Option Value/Price')\n",
    "plt.xlabel('Initial stock price S')\n",
    "plt.xlim(90,140)\n",
    "plt.ylim(0,40)\n",
    "plt.scatter([x*0.1 for x in range(start1,stop1)],list4,s=0.5)\n",
    "plt.scatter([x*0.1 for x in range(start1,stop1)],list5,s=0.5,color='red')\n",
    "plt.show()"
   ]
  },
  {
   "cell_type": "markdown",
   "metadata": {},
   "source": [
    "Red curve is option price with dividend q=0.08.\n",
    "\n",
    "As dividend is doubled, call price is lower at every initial stock price S."
   ]
  },
  {
   "cell_type": "code",
   "execution_count": 25,
   "metadata": {},
   "outputs": [
    {
     "name": "stderr",
     "output_type": "stream",
     "text": [
      "/Library/Frameworks/Python.framework/Versions/2.7/lib/python2.7/site-packages/ipykernel_launcher.py:6: RuntimeWarning: invalid value encountered in double_scalars\n",
      "  \n"
     ]
    },
    {
     "data": {
      "text/html": [
       "<div>\n",
       "<style scoped>\n",
       "    .dataframe tbody tr th:only-of-type {\n",
       "        vertical-align: middle;\n",
       "    }\n",
       "\n",
       "    .dataframe tbody tr th {\n",
       "        vertical-align: top;\n",
       "    }\n",
       "\n",
       "    .dataframe thead th {\n",
       "        text-align: right;\n",
       "    }\n",
       "</style>\n",
       "<table border=\"1\" class=\"dataframe\">\n",
       "  <thead>\n",
       "    <tr style=\"text-align: right;\">\n",
       "      <th></th>\n",
       "      <th>S*(i)</th>\n",
       "      <th>T</th>\n",
       "      <th>i</th>\n",
       "    </tr>\n",
       "  </thead>\n",
       "  <tbody>\n",
       "    <tr>\n",
       "      <th>0</th>\n",
       "      <td>100.000</td>\n",
       "      <td>1.000000</td>\n",
       "      <td>12.0</td>\n",
       "    </tr>\n",
       "    <tr>\n",
       "      <th>1</th>\n",
       "      <td>110.530</td>\n",
       "      <td>0.916667</td>\n",
       "      <td>11.0</td>\n",
       "    </tr>\n",
       "    <tr>\n",
       "      <th>2</th>\n",
       "      <td>113.935</td>\n",
       "      <td>0.833333</td>\n",
       "      <td>10.0</td>\n",
       "    </tr>\n",
       "    <tr>\n",
       "      <th>3</th>\n",
       "      <td>116.265</td>\n",
       "      <td>0.750000</td>\n",
       "      <td>9.0</td>\n",
       "    </tr>\n",
       "    <tr>\n",
       "      <th>4</th>\n",
       "      <td>118.045</td>\n",
       "      <td>0.666667</td>\n",
       "      <td>8.0</td>\n",
       "    </tr>\n",
       "    <tr>\n",
       "      <th>5</th>\n",
       "      <td>119.515</td>\n",
       "      <td>0.583333</td>\n",
       "      <td>7.0</td>\n",
       "    </tr>\n",
       "    <tr>\n",
       "      <th>6</th>\n",
       "      <td>120.770</td>\n",
       "      <td>0.500000</td>\n",
       "      <td>6.0</td>\n",
       "    </tr>\n",
       "    <tr>\n",
       "      <th>7</th>\n",
       "      <td>121.830</td>\n",
       "      <td>0.416667</td>\n",
       "      <td>5.0</td>\n",
       "    </tr>\n",
       "    <tr>\n",
       "      <th>8</th>\n",
       "      <td>122.775</td>\n",
       "      <td>0.333333</td>\n",
       "      <td>4.0</td>\n",
       "    </tr>\n",
       "    <tr>\n",
       "      <th>9</th>\n",
       "      <td>123.645</td>\n",
       "      <td>0.250000</td>\n",
       "      <td>3.0</td>\n",
       "    </tr>\n",
       "    <tr>\n",
       "      <th>10</th>\n",
       "      <td>124.425</td>\n",
       "      <td>0.166667</td>\n",
       "      <td>2.0</td>\n",
       "    </tr>\n",
       "    <tr>\n",
       "      <th>11</th>\n",
       "      <td>125.120</td>\n",
       "      <td>0.083333</td>\n",
       "      <td>1.0</td>\n",
       "    </tr>\n",
       "    <tr>\n",
       "      <th>12</th>\n",
       "      <td>125.745</td>\n",
       "      <td>0.000000</td>\n",
       "      <td>0.0</td>\n",
       "    </tr>\n",
       "  </tbody>\n",
       "</table>\n",
       "</div>"
      ],
      "text/plain": [
       "      S*(i)         T     i\n",
       "0   100.000  1.000000  12.0\n",
       "1   110.530  0.916667  11.0\n",
       "2   113.935  0.833333  10.0\n",
       "3   116.265  0.750000   9.0\n",
       "4   118.045  0.666667   8.0\n",
       "5   119.515  0.583333   7.0\n",
       "6   120.770  0.500000   6.0\n",
       "7   121.830  0.416667   5.0\n",
       "8   122.775  0.333333   4.0\n",
       "9   123.645  0.250000   3.0\n",
       "10  124.425  0.166667   2.0\n",
       "11  125.120  0.083333   1.0\n",
       "12  125.745  0.000000   0.0"
      ]
     },
     "metadata": {},
     "output_type": "display_data"
    },
    {
     "name": "stdout",
     "output_type": "stream",
     "text": [
      "CPU times: user 3min, sys: 2.18 s, total: 3min 3s\n",
      "Wall time: 3min 6s\n"
     ]
    }
   ],
   "source": [
    "%%time\n",
    "increment_list=[1,0.5,0.01,0.005]\n",
    "df3=getBoundary(100,98,200,0.08,increment_list,'C')\n",
    "display(df3)"
   ]
  },
  {
   "cell_type": "code",
   "execution_count": 26,
   "metadata": {},
   "outputs": [
    {
     "data": {
      "image/png": "[encoded data removed]",
      "text/plain": [
       "<matplotlib.figure.Figure at 0x10adf8650>"
      ]
     },
     "metadata": {},
     "output_type": "display_data"
    }
   ],
   "source": [
    "plt.ylabel('Early exercise boundary S*(i)')\n",
    "plt.xlabel('Option Maturity T')\n",
    "plt.plot(df2['T'], df2['S*(i)'])\n",
    "plt.plot(df3['T'], df3['S*(i)'],color='red')\n",
    "plt.show()"
   ]
  },
  {
   "cell_type": "markdown",
   "metadata": {},
   "source": [
    "With higher dividend yield, early exercise boundary S*(i) is lower. "
   ]
  },
  {
   "cell_type": "markdown",
   "metadata": {},
   "source": [
    "#### 4.4 What is the intuition behind this dependence on the dividend yield?\n",
    "\n",
    "The red line is the call option with doubled dividend yield. The optimal early exercise boundary of an american call option with higher dividend yield is always less than that of an option with lesser dividend yield. With higher dividends, since actual value of stock is less, call option price with q=0.08 is lower than that of q=0.04.\n",
    "\n",
    "To ensure S-K-American Call Price=0 is held, as call price is lowered, boundary S* is also lowered.\n",
    "\n",
    "The two boundaries converges as option approaches maturity. This is because as option maturity approaches, call prices with q=0.04 decreases at an increasing rate. "
   ]
  },
  {
   "cell_type": "code",
   "execution_count": null,
   "metadata": {},
   "outputs": [],
   "source": []
  }
 ],
 "metadata": {
  "kernelspec": {
   "display_name": "Python 2",
   "language": "python",
   "name": "python2"
  },
  "language_info": {
   "codemirror_mode": {
    "name": "ipython",
    "version": 2
   },
   "file_extension": ".py",
   "mimetype": "text/x-python",
   "name": "python",
   "nbconvert_exporter": "python",
   "pygments_lexer": "ipython2",
   "version": "2.7.11"
  }
 },
 "nbformat": 4,
 "nbformat_minor": 2
}
